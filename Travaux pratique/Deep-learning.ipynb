{
 "cells": [
  {
   "cell_type": "code",
   "execution_count": 1,
   "id": "566afa20-531d-40c2-91a4-3bb11ff13f1e",
   "metadata": {},
   "outputs": [],
   "source": [
    "import numpy as np \n",
    "import pandas as pd \n",
    "from tensorflow.keras import optimizers\n",
    "from tensorflow.keras.models import Sequential\n",
    "from tensorflow.keras.layers import Dense\n",
    "import matplotlib.pyplot as plt \n",
    "%matplotlib inline\n",
    "### Partie A - Les données\n",
    "from tensorflow.keras.datasets import mnist\n",
    "from tensorflow.keras.utils import to_categorical"
   ]
  },
  {
   "cell_type": "code",
   "execution_count": null,
   "id": "1c130b93-a744-4027-9ccd-51bf6e66b61d",
   "metadata": {},
   "outputs": [],
   "source": [
    "# Téléchargement des données\n",
    "(X_train_data,Y_train_data),(X_test_data,Y_test_data) = mnist.load_data()\n",
    "N = X_train_data.shape[0] # N = 60 000 données"
   ]
  },
  {
   "cell_type": "code",
   "execution_count": null,
   "id": "48fe3bcf-49e8-42a3-b96f-51a7edad5f37",
   "metadata": {},
   "outputs": [],
   "source": [
    "# Données d'apprentissage X\n",
    "X_train = np.reshape(X_train_data,(N,784)) # vecteur image\n",
    "X_train = X_train/255 # normalisation\n",
    "# Données d'apprentissage Y vers une liste de taille 10\n",
    "Y_train = to_categorical(Y_train_data, num_classes=10)\n",
    "# Données de test\n",
    "X_test = np.reshape(X_test_data,(X_test_data.shape[0],784))\n",
    "X_test = X_test/255\n",
    "Y_test = to_categorical(Y_test_data, num_classes=10)\n",
    "### Partie B - Le réseau de neurones\n",
    "p = 8\n",
    "modele = Sequential()\n",
    "# Première couche : p neurones (entrée de dimension 784 = 28x28)\n",
    "modele.add(Dense(p, input_dim=784, activation='sigmoid'))\n",
    "# Deuxième couche : p neurones\n",
    "modele.add(Dense(p, activation='sigmoid'))\n",
    "# Couche de sortie : 1O neurones (un par chiffre)\n",
    "modele.add(Dense(10, activation='softmax'))\n",
    "# Choix de la méthode de descente de gradient\n",
    "modele.compile(loss='categorical_crossentropy',\n",
    "optimizer='sgd',\n",
    "metrics=['accuracy'])\n",
    "print(modele.summary())"
   ]
  },
  {
   "cell_type": "code",
   "execution_count": null,
   "id": "19847bf8-b538-4027-b448-d8906439f2fd",
   "metadata": {},
   "outputs": [],
   "source": [
    "### Partie C - Calcul des poids par descente de gradient\n",
    "\n",
    "modele.fit(X_train, Y_train, batch_size=32, epochs=40)\n",
    "\n",
    "### Partie D - Résultats\n",
    "resultat = modele.evaluate(X_test, Y_test, verbose=0)\n",
    "print('Valeur de l''erreur sur les données de test (loss):', resultat[0])\n",
    "print('Précision sur les données de test (accuracy):', resultat[1])"
   ]
  },
  {
   "cell_type": "code",
   "execution_count": null,
   "id": "02c5a184-ede8-451d-8ced-045f40dac793",
   "metadata": {},
   "outputs": [],
   "source": [
    "#Prédiction sur les données de test\n",
    "Y_predict = modele.predict(X_test)\n",
    "# Un exemple\n",
    "i = 8 # numéro de l'image\n",
    "chiffre_predit = np.argmax(Y_predict[i]) # prédiction par le réseau\n",
    "print(\"Sortie réseau\", Y_predict[i])\n",
    "print(\"Chiffre attendu :\", Y_test_data[i])\n",
    "print(\"Chiffre prédit :\", chiffre_predit)\n",
    "plt.imshow(X_test_data[i], cmap='Greys')\n",
    "plt.show()"
   ]
  },
  {
   "cell_type": "code",
   "execution_count": null,
   "id": "d8451da8-f6f2-4a60-ba2b-00902e9e7d24",
   "metadata": {},
   "outputs": [],
   "source": []
  },
  {
   "cell_type": "code",
   "execution_count": null,
   "id": "a175c50e-6dce-413c-b384-1f38f4632872",
   "metadata": {},
   "outputs": [],
   "source": []
  },
  {
   "cell_type": "code",
   "execution_count": null,
   "id": "1d6ebdbd-ca07-4670-a70d-2526a31918f2",
   "metadata": {},
   "outputs": [],
   "source": []
  }
 ],
 "metadata": {
  "kernelspec": {
   "display_name": "Python 3 (ipykernel)",
   "language": "python",
   "name": "python3"
  },
  "language_info": {
   "codemirror_mode": {
    "name": "ipython",
    "version": 3
   },
   "file_extension": ".py",
   "mimetype": "text/x-python",
   "name": "python",
   "nbconvert_exporter": "python",
   "pygments_lexer": "ipython3",
   "version": "3.9.13"
  }
 },
 "nbformat": 4,
 "nbformat_minor": 5
}
